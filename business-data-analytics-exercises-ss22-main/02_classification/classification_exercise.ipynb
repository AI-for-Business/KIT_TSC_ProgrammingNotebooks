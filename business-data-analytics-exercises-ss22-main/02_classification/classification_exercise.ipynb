{
 "cells": [
  {
   "cell_type": "markdown",
   "metadata": {},
   "source": [
    "# Business Data Analytics - Exercise Classification Tutorial\n",
    "\n",
    "This notebook is designed to illustrate basic machine learning techniques. The focus hereby lies on classification problems. We will first look at a simple binary classifcation problem and learn how sampling can increase classification performance. Then, we will explore a multilabel classification problem and learn how this problem is different from a classification problem."
   ]
  },
  {
   "cell_type": "markdown",
   "metadata": {},
   "source": [
    "\n",
    "## Binary classifcation \n",
    "\n",
    "In this section, we will use the [LFW (Faces in the Wild) dataset](http://vis-www.cs.umass.edu/lfw/) and try to predict if the picture either shows B. Clinton or G.W. Bush. "
   ]
  },
  {
   "cell_type": "code",
   "execution_count": 5,
   "metadata": {},
   "outputs": [],
   "source": [
    "# import necessary libraries\n",
    "import numpy as np\n",
    "import pandas as pd\n",
    "\n",
    "from sklearn.datasets import fetch_lfw_people\n",
    "from sklearn.model_selection import StratifiedKFold, cross_val_predict\n",
    "from sklearn.ensemble import RandomForestClassifier\n",
    "from sklearn.metrics import RocCurveDisplay, roc_curve, auc\n",
    "\n",
    "import matplotlib.pyplot as plt\n",
    "import seaborn as sns\n",
    "\n",
    "from imblearn import FunctionSampler\n",
    "from imblearn.under_sampling import RandomUnderSampler\n",
    "from imblearn.over_sampling import RandomOverSampler, SMOTE\n",
    "from imblearn.pipeline import make_pipeline"
   ]
  },
  {
   "cell_type": "code",
   "execution_count": 6,
   "metadata": {},
   "outputs": [],
   "source": [
    "data = fetch_lfw_people()\n",
    "george_bush_id = 1871  # Photos of George W. Bush\n",
    "bill_clinton_id = 531  # Photos of Bill Clinton\n",
    "classes = [george_bush_id, bill_clinton_id]\n",
    "classes_name = np.array([\"B. Clinton\", \"G.W. Bush\"], dtype=object)"
   ]
  },
  {
   "cell_type": "code",
   "execution_count": 7,
   "metadata": {},
   "outputs": [],
   "source": [
    "mask_photos = np.isin(data.target, classes)\n",
    "X, y = data.data[mask_photos], data.target[mask_photos]\n",
    "y = (y == bill_clinton_id).astype(np.int8)"
   ]
  },
  {
   "cell_type": "code",
   "execution_count": 8,
   "metadata": {},
   "outputs": [
    {
     "name": "stdout",
     "output_type": "stream",
     "text": [
      "The positive label considered as the minority class is 1\n"
     ]
    },
    {
     "data": {
      "image/png": "[encoded data removed]",
      "text/plain": [
       "<Figure size 432x288 with 1 Axes>"
      ]
     },
     "metadata": {
      "needs_background": "light"
     },
     "output_type": "display_data"
    }
   ],
   "source": [
    "class_distribution = pd.Series(y).value_counts(normalize=True)\n",
    "ax = class_distribution.plot.barh()\n",
    "ax.set_title(\"Class distribution\")\n",
    "pos_label = class_distribution.idxmin()\n",
    "plt.tight_layout()\n",
    "print(f\"The positive label considered as the minority class is {pos_label}\")"
   ]
  },
  {
   "cell_type": "markdown",
   "metadata": {},
   "source": [
    "#### Task: Training a machine learning algorithm to solve a binary classification problem\n",
    "\n",
    "Please consider the following constraints:\n",
    "- To get better estimations of the true performance, use at least a 3 fold cross validation strategy.\n",
    "- Evaluate the same classifier for different scenarios on the Area Under the Curve (AUC)\n",
    "    - No sampling technique\n",
    "    - Random over sampling of the minority class\n",
    "    - Use a sampling technique called SMOTE\n",
    "- Plot the Receiver Operating Characteristic for all three scenarios\n",
    "\n",
    "To get started with cross validation techniques, please read [sklearn's guide](https://scikit-learn.org/stable/modules/cross_validation.html#cross-validation). **Which cross validation strategy is particulary suited for this task?** The [imblearn library](https://imbalanced-learn.org/stable/) provides a good overview of different sampling techniques and should help you with your task. **What is a possible disadvantage of the over sampling methods?** \n",
    "\n",
    "\n",
    "\n",
    "Use the cells below to answer this question"
   ]
  },
  {
   "cell_type": "code",
   "execution_count": null,
   "metadata": {},
   "outputs": [],
   "source": []
  },
  {
   "cell_type": "markdown",
   "metadata": {},
   "source": [
    "#### Task: Plot the probability distribution for varying under sampling thresholds using random under sampling\n",
    "\n",
    "What happens to the distributions? How do they change?\n",
    "\n",
    "Use the cell below for your answer. "
   ]
  },
  {
   "cell_type": "code",
   "execution_count": null,
   "metadata": {},
   "outputs": [],
   "source": []
  },
  {
   "cell_type": "markdown",
   "metadata": {},
   "source": [
    "## Multilabel classification\n",
    "\n",
    "In this section, we will be using the dataset from the jigsaw toxic comment classification challenge on Kaggle. The goal is to assign each text labels, that represent the kind of toxity. Possible labels include:\n",
    "\n",
    "- toxic\n",
    "- severe_toxic\n",
    "- obscene\n",
    "- threat\n",
    "- insult\n",
    "- identity_hate\n",
    "\n",
    "We will treat this problem as a multilabel classification problem. The difference between multiclass classification & multilabel classification is that in multiclass problems the classes are mutually exclusive, whereas for multilabel problems each label represents a different classification task, but the tasks are somehow related.\n",
    "\n",
    "Click [here](https://www.kaggle.com/c/jigsaw-toxic-comment-classification-challenge) to read more about the challenge. The code of this notebook is inspired by [this blogpost](https://towardsdatascience.com/journey-to-the-center-of-multi-label-classification-384c40229bff) from Kartik Nooney on towardsdatascience.com\n",
    "\n"
   ]
  },
  {
   "cell_type": "code",
   "execution_count": 15,
   "metadata": {},
   "outputs": [],
   "source": [
    "# import packages\n",
    "import re\n",
    "\n",
    "import pandas as pd\n",
    "import numpy as np\n",
    "\n",
    "import matplotlib.pyplot as plt\n",
    "import seaborn as sns\n",
    "\n",
    "import nltk\n",
    "from nltk.corpus import stopwords\n",
    "from nltk.stem.snowball import SnowballStemmer\n",
    "\n",
    "\n",
    "from sklearn.metrics import classification_report, accuracy_score\n",
    "from sklearn.model_selection import train_test_split\n",
    "from sklearn.metrics import classification_report\n",
    "from sklearn.feature_extraction.text import TfidfVectorizer\n",
    "from sklearn.naive_bayes import GaussianNB\n",
    "\n",
    "from skmultilearn.problem_transform import BinaryRelevance"
   ]
  },
  {
   "cell_type": "markdown",
   "metadata": {},
   "source": [
    "### Exploratory Data Analysis (EDA)\n",
    "\n",
    "First, we will load the data and then plot the distribution of our target variable."
   ]
  },
  {
   "cell_type": "code",
   "execution_count": 16,
   "metadata": {},
   "outputs": [
    {
     "name": "stdout",
     "output_type": "stream",
     "text": [
      "Number of rows in data: 159571\n",
      "Number of columns in data: 8\n",
      "**Sample data:**\n"
     ]
    },
    {
     "data": {
      "text/html": [
       "<div>\n",
       "<style scoped>\n",
       "    .dataframe tbody tr th:only-of-type {\n",
       "        vertical-align: middle;\n",
       "    }\n",
       "\n",
       "    .dataframe tbody tr th {\n",
       "        vertical-align: top;\n",
       "    }\n",
       "\n",
       "    .dataframe thead th {\n",
       "        text-align: right;\n",
       "    }\n",
       "</style>\n",
       "<table border=\"1\" class=\"dataframe\">\n",
       "  <thead>\n",
       "    <tr style=\"text-align: right;\">\n",
       "      <th></th>\n",
       "      <th>id</th>\n",
       "      <th>comment_text</th>\n",
       "      <th>toxic</th>\n",
       "      <th>severe_toxic</th>\n",
       "      <th>obscene</th>\n",
       "      <th>threat</th>\n",
       "      <th>insult</th>\n",
       "      <th>identity_hate</th>\n",
       "    </tr>\n",
       "  </thead>\n",
       "  <tbody>\n",
       "    <tr>\n",
       "      <th>0</th>\n",
       "      <td>0000997932d777bf</td>\n",
       "      <td>Explanation\\nWhy the edits made under my usern...</td>\n",
       "      <td>0</td>\n",
       "      <td>0</td>\n",
       "      <td>0</td>\n",
       "      <td>0</td>\n",
       "      <td>0</td>\n",
       "      <td>0</td>\n",
       "    </tr>\n",
       "    <tr>\n",
       "      <th>1</th>\n",
       "      <td>000103f0d9cfb60f</td>\n",
       "      <td>D'aww! He matches this background colour I'm s...</td>\n",
       "      <td>0</td>\n",
       "      <td>0</td>\n",
       "      <td>0</td>\n",
       "      <td>0</td>\n",
       "      <td>0</td>\n",
       "      <td>0</td>\n",
       "    </tr>\n",
       "    <tr>\n",
       "      <th>2</th>\n",
       "      <td>000113f07ec002fd</td>\n",
       "      <td>Hey man, I'm really not trying to edit war. It...</td>\n",
       "      <td>0</td>\n",
       "      <td>0</td>\n",
       "      <td>0</td>\n",
       "      <td>0</td>\n",
       "      <td>0</td>\n",
       "      <td>0</td>\n",
       "    </tr>\n",
       "    <tr>\n",
       "      <th>3</th>\n",
       "      <td>0001b41b1c6bb37e</td>\n",
       "      <td>\"\\nMore\\nI can't make any real suggestions on ...</td>\n",
       "      <td>0</td>\n",
       "      <td>0</td>\n",
       "      <td>0</td>\n",
       "      <td>0</td>\n",
       "      <td>0</td>\n",
       "      <td>0</td>\n",
       "    </tr>\n",
       "    <tr>\n",
       "      <th>4</th>\n",
       "      <td>0001d958c54c6e35</td>\n",
       "      <td>You, sir, are my hero. Any chance you remember...</td>\n",
       "      <td>0</td>\n",
       "      <td>0</td>\n",
       "      <td>0</td>\n",
       "      <td>0</td>\n",
       "      <td>0</td>\n",
       "      <td>0</td>\n",
       "    </tr>\n",
       "  </tbody>\n",
       "</table>\n",
       "</div>"
      ],
      "text/plain": [
       "                 id                                       comment_text  toxic  \\\n",
       "0  0000997932d777bf  Explanation\\nWhy the edits made under my usern...      0   \n",
       "1  000103f0d9cfb60f  D'aww! He matches this background colour I'm s...      0   \n",
       "2  000113f07ec002fd  Hey man, I'm really not trying to edit war. It...      0   \n",
       "3  0001b41b1c6bb37e  \"\\nMore\\nI can't make any real suggestions on ...      0   \n",
       "4  0001d958c54c6e35  You, sir, are my hero. Any chance you remember...      0   \n",
       "\n",
       "   severe_toxic  obscene  threat  insult  identity_hate  \n",
       "0             0        0       0       0              0  \n",
       "1             0        0       0       0              0  \n",
       "2             0        0       0       0              0  \n",
       "3             0        0       0       0              0  \n",
       "4             0        0       0       0              0  "
      ]
     },
     "execution_count": 16,
     "metadata": {},
     "output_type": "execute_result"
    }
   ],
   "source": [
    "data = pd.read_csv(\"data.csv\")\n",
    "\n",
    "print(\"Number of rows in data:\", data.shape[0])\n",
    "print(\"Number of columns in data:\", data.shape[1])\n",
    "print(\"**Sample data:**\")\n",
    "data.head()"
   ]
  },
  {
   "cell_type": "code",
   "execution_count": 17,
   "metadata": {},
   "outputs": [],
   "source": [
    "# drop ID\n",
    "data.drop(['id'], axis=1, inplace=True)"
   ]
  },
  {
   "cell_type": "code",
   "execution_count": 19,
   "metadata": {},
   "outputs": [
    {
     "name": "stderr",
     "output_type": "stream",
     "text": [
      "c:\\users\\di872\\desktop\\lehre\\bda\\ss2022\\übung\\exercises\\02_classififcation\\venv\\lib\\site-packages\\seaborn\\_decorators.py:36: FutureWarning: Pass the following variables as keyword args: x, y. From version 0.12, the only valid positional argument will be `data`, and passing other arguments without an explicit keyword will result in an error or misinterpretation.\n",
      "  warnings.warn(\n"
     ]
    },
    {
     "data": {
      "image/png": "[encoded data removed]",
      "text/plain": [
       "<Figure size 1152x576 with 1 Axes>"
      ]
     },
     "metadata": {
      "needs_background": "light"
     },
     "output_type": "display_data"
    }
   ],
   "source": [
    "categories = list(data.drop(['comment_text'], axis=1).columns.values)\n",
    "plt.figure(figsize=(16,8))\n",
    "ax= sns.barplot(categories, data.iloc[:,1:].sum().values)\n",
    "plt.title(\"Comments in each category\")\n",
    "plt.ylabel('Number of comments')\n",
    "plt.xlabel('Comment Type ')\n",
    "plt.xticks(rotation=45)\n",
    "plt.tight_layout()\n",
    "plt.show()"
   ]
  },
  {
   "cell_type": "markdown",
   "metadata": {},
   "source": [
    "#### Task: Plot the number of texts with multiple labels\n",
    "\n",
    "Use the cell below for your answer"
   ]
  },
  {
   "cell_type": "code",
   "execution_count": null,
   "metadata": {},
   "outputs": [],
   "source": []
  },
  {
   "cell_type": "markdown",
   "metadata": {},
   "source": [
    "### Preprocessing\n",
    "\n",
    "Now, we want to preprocess our text data to remove noise in our dataset and make it easier for our machine learning model to learn patterns. Possible steps include:\n",
    "- Transform text to lower case\n",
    "- Remove html annotations\n",
    "- Remove punctuation\n",
    "- Remove non-alphabetic characters\n",
    "- Remove stop words\n",
    "- Apply stemming\n",
    "\n",
    "#### Task: Implement a preprocessing pipeline with the above mentioned steps\n",
    "\n",
    "A useful library for removing any sort of patterns from a text is the [re](https://docs.python.org/3/library/re.html) library for regular expressions. More advanced text preprocessing techniques, such as stemming and lemmatization, can be accessed through the [spacy](https://spacy.io/) or [nltk](https://www.nltk.org/) library. We have already installed the nltk library. If you want to use spacy, you need to install its library first.\n",
    "\n",
    "Use the cell below for your answer."
   ]
  },
  {
   "cell_type": "code",
   "execution_count": null,
   "metadata": {},
   "outputs": [],
   "source": []
  },
  {
   "cell_type": "markdown",
   "metadata": {},
   "source": [
    "### Modelling \n",
    "\n",
    "With the cleaned data, we are one step closer to applying a machine learning model. But before we do so, we will need to split our data into a training and testing set.\n",
    "\n",
    "Use the cell below for your answer."
   ]
  },
  {
   "cell_type": "code",
   "execution_count": null,
   "metadata": {},
   "outputs": [],
   "source": [
    "texts, labels = data['comment_text'], data.drop(['comment_text'], axis=1)\n",
    "texts_train, texts_test, labels_train, labels_test = train_test_split(texts, labels, random_state=42, test_size=0.30, shuffle=True)"
   ]
  },
  {
   "cell_type": "markdown",
   "metadata": {},
   "source": [
    "Now we can transform our text data into a vector representation using the term frequency inverse document frequency (TFIDF) methodology.\n",
    "\n",
    "#### Task: Apply TFIDF to our text data\n",
    "\n",
    "Use the cell below for your answer."
   ]
  },
  {
   "cell_type": "code",
   "execution_count": null,
   "metadata": {},
   "outputs": [],
   "source": []
  },
  {
   "cell_type": "markdown",
   "metadata": {},
   "source": [
    "#### Task: Multilabel classification\n",
    "\n",
    "Most traditional learning algorithms are developed for single-label classification problems. Therefore a lot of approaches in the literature transform the multi-label problem into multiple single-label problems, so that the existing single-label algorithms can be used. In our case, we want to train multiple binary classifiers that predict if a text contains a certain label. If you want to read more about other classifcation techniques for multilabel problems, click [here](http://scikit.ml/). \n",
    "\n",
    "Use the cell below for your answer."
   ]
  },
  {
   "cell_type": "code",
   "execution_count": null,
   "metadata": {},
   "outputs": [],
   "source": []
  },
  {
   "cell_type": "markdown",
   "metadata": {},
   "source": [
    "#### Task: Evaluation\n",
    "\n",
    "Evaluate your results by looking at the overall accuracy and the precision, recall and f1 score for each label.\n",
    "\n",
    "Use the cell below for your answer."
   ]
  },
  {
   "cell_type": "code",
   "execution_count": null,
   "metadata": {},
   "outputs": [],
   "source": []
  }
 ],
 "metadata": {
  "interpreter": {
   "hash": "84a58b191d90449da742b35711cf6b98468f8c1fd3c50a4e0cf298c30481a5f6"
  },
  "kernelspec": {
   "display_name": "Python 3 (ipykernel)",
   "language": "python",
   "name": "python3"
  },
  "language_info": {
   "codemirror_mode": {
    "name": "ipython",
    "version": 3
   },
   "file_extension": ".py",
   "mimetype": "text/x-python",
   "name": "python",
   "nbconvert_exporter": "python",
   "pygments_lexer": "ipython3",
   "version": "3.8.10"
  }
 },
 "nbformat": 4,
 "nbformat_minor": 2
}
